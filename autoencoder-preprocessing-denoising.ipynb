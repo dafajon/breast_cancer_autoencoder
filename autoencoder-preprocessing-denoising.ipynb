{
 "cells": [
  {
   "cell_type": "code",
   "execution_count": 1,
   "metadata": {
    "_cell_guid": "79c7e3d0-c299-4dcb-8224-4455121ee9b0",
    "_uuid": "d629ff2d2480ee46fbb7e2d37f6b5fab8052498a",
    "execution": {
     "iopub.execute_input": "2020-12-24T20:31:16.302760Z",
     "iopub.status.busy": "2020-12-24T20:31:16.301714Z",
     "iopub.status.idle": "2020-12-24T20:31:23.506937Z",
     "shell.execute_reply": "2020-12-24T20:31:23.505435Z"
    },
    "papermill": {
     "duration": 7.226472,
     "end_time": "2020-12-24T20:31:23.507072",
     "exception": false,
     "start_time": "2020-12-24T20:31:16.280600",
     "status": "completed"
    },
    "tags": []
   },
   "outputs": [],
   "source": [
    "import tensorflow as tf\n",
    "\n",
    "import numpy as np\n",
    "import pandas as pd\n",
    "from sklearn.model_selection import train_test_split\n",
    "from sklearn.preprocessing import MinMaxScaler\n",
    "\n",
    "from sklearn.compose import ColumnTransformer\n",
    "\n",
    "import seaborn as sns\n",
    "import matplotlib.pyplot as plt"
   ]
  },
  {
   "cell_type": "markdown",
   "metadata": {
    "papermill": {
     "duration": 0.017141,
     "end_time": "2020-12-24T20:31:23.542168",
     "exception": false,
     "start_time": "2020-12-24T20:31:23.525027",
     "status": "completed"
    },
    "tags": []
   },
   "source": [
    "## Prepare and Preprocess Data"
   ]
  },
  {
   "cell_type": "code",
   "execution_count": 2,
   "metadata": {
    "execution": {
     "iopub.execute_input": "2020-12-24T20:31:23.589960Z",
     "iopub.status.busy": "2020-12-24T20:31:23.589111Z",
     "iopub.status.idle": "2020-12-24T20:31:23.655042Z",
     "shell.execute_reply": "2020-12-24T20:31:23.654372Z"
    },
    "papermill": {
     "duration": 0.095491,
     "end_time": "2020-12-24T20:31:23.655159",
     "exception": false,
     "start_time": "2020-12-24T20:31:23.559668",
     "status": "completed"
    },
    "tags": []
   },
   "outputs": [],
   "source": [
    "df = pd.read_csv('data/data.csv').dropna(axis=1)\n",
    "df_orig = df.copy()\n",
    "feats = df.columns.difference(['id', 'diagnosis'])\n",
    "df.loc[:, feats] = ColumnTransformer([('mmx', MinMaxScaler(), list(feats))]).fit_transform(df)"
   ]
  },
  {
   "cell_type": "code",
   "execution_count": 3,
   "metadata": {
    "execution": {
     "iopub.execute_input": "2020-12-24T20:31:23.693888Z",
     "iopub.status.busy": "2020-12-24T20:31:23.692937Z",
     "iopub.status.idle": "2020-12-24T20:31:23.712405Z",
     "shell.execute_reply": "2020-12-24T20:31:23.711718Z"
    },
    "papermill": {
     "duration": 0.039966,
     "end_time": "2020-12-24T20:31:23.712538",
     "exception": false,
     "start_time": "2020-12-24T20:31:23.672572",
     "status": "completed"
    },
    "tags": []
   },
   "outputs": [],
   "source": [
    "train_df, val_df = train_test_split(df, stratify=df.diagnosis, test_size=0.2, random_state=42)\n",
    "train_df_orig, val_df_orig = train_test_split(df_orig, stratify=df.diagnosis, test_size=0.2, random_state=42)\n",
    "train_X, val_X = train_df[feats].values, val_df[feats].values"
   ]
  },
  {
   "cell_type": "markdown",
   "metadata": {
    "papermill": {
     "duration": 0.019375,
     "end_time": "2020-12-24T20:31:23.751524",
     "exception": false,
     "start_time": "2020-12-24T20:31:23.732149",
     "status": "completed"
    },
    "tags": []
   },
   "source": [
    "## Autoencoder "
   ]
  },
  {
   "cell_type": "markdown",
   "metadata": {
    "papermill": {
     "duration": 0.017876,
     "end_time": "2020-12-24T20:31:23.789322",
     "exception": false,
     "start_time": "2020-12-24T20:31:23.771446",
     "status": "completed"
    },
    "tags": []
   },
   "source": [
    "### Build"
   ]
  },
  {
   "cell_type": "code",
   "execution_count": 4,
   "metadata": {
    "execution": {
     "iopub.execute_input": "2020-12-24T20:31:23.829966Z",
     "iopub.status.busy": "2020-12-24T20:31:23.828920Z",
     "iopub.status.idle": "2020-12-24T20:31:23.839698Z",
     "shell.execute_reply": "2020-12-24T20:31:23.839034Z"
    },
    "papermill": {
     "duration": 0.031736,
     "end_time": "2020-12-24T20:31:23.839818",
     "exception": false,
     "start_time": "2020-12-24T20:31:23.808082",
     "status": "completed"
    },
    "tags": []
   },
   "outputs": [],
   "source": [
    "class Autoencoder(tf.keras.Model):\n",
    "    def __init__(self, latent_dim, inp_shp):\n",
    "        super(Autoencoder, self).__init__()\n",
    "        self.latent_dim = latent_dim\n",
    "        self.inp_shp = inp_shp\n",
    "        self.encoder = tf.keras.Sequential([\n",
    "                                            tf.keras.layers.Dense(20, activation='relu'),\n",
    "                                            tf.keras.layers.Dense(self.latent_dim, activation='relu')\n",
    "                                           ])\n",
    "        self.decoder = tf.keras.Sequential([\n",
    "                                            tf.keras.layers.Dense(20, activation='relu'),\n",
    "                                            tf.keras.layers.Dense(self.inp_shp, activation='sigmoid')\n",
    "                                           ])\n",
    "    \n",
    "    def call(self, x):\n",
    "        encoded = self.encoder(x)\n",
    "        decoded = self.decoder(encoded)\n",
    "        return decoded"
   ]
  },
  {
   "cell_type": "code",
   "execution_count": 5,
   "metadata": {
    "execution": {
     "iopub.execute_input": "2020-12-24T20:31:23.880745Z",
     "iopub.status.busy": "2020-12-24T20:31:23.880056Z",
     "iopub.status.idle": "2020-12-24T20:31:23.976793Z",
     "shell.execute_reply": "2020-12-24T20:31:23.977353Z"
    },
    "papermill": {
     "duration": 0.119875,
     "end_time": "2020-12-24T20:31:23.977496",
     "exception": false,
     "start_time": "2020-12-24T20:31:23.857621",
     "status": "completed"
    },
    "tags": []
   },
   "outputs": [],
   "source": [
    "autoencoder = Autoencoder(15, len(feats))\n",
    "autoencoder.compile(optimizer='adam', loss=tf.keras.losses.MeanSquaredError())"
   ]
  },
  {
   "cell_type": "code",
   "execution_count": 6,
   "metadata": {
    "execution": {
     "iopub.execute_input": "2020-12-24T20:31:24.016661Z",
     "iopub.status.busy": "2020-12-24T20:31:24.015999Z",
     "iopub.status.idle": "2020-12-24T20:31:24.021010Z",
     "shell.execute_reply": "2020-12-24T20:31:24.020492Z"
    },
    "papermill": {
     "duration": 0.025683,
     "end_time": "2020-12-24T20:31:24.021125",
     "exception": false,
     "start_time": "2020-12-24T20:31:23.995442",
     "status": "completed"
    },
    "tags": []
   },
   "outputs": [],
   "source": [
    "early_stop = tf.keras.callbacks.EarlyStopping(patience=10)"
   ]
  },
  {
   "cell_type": "markdown",
   "metadata": {
    "papermill": {
     "duration": 0.017667,
     "end_time": "2020-12-24T20:31:24.056891",
     "exception": false,
     "start_time": "2020-12-24T20:31:24.039224",
     "status": "completed"
    },
    "tags": []
   },
   "source": [
    "### Train"
   ]
  },
  {
   "cell_type": "code",
   "execution_count": 7,
   "metadata": {
    "execution": {
     "iopub.execute_input": "2020-12-24T20:31:24.096396Z",
     "iopub.status.busy": "2020-12-24T20:31:24.095770Z",
     "iopub.status.idle": "2020-12-24T20:31:29.410701Z",
     "shell.execute_reply": "2020-12-24T20:31:29.410017Z"
    },
    "papermill": {
     "duration": 5.335799,
     "end_time": "2020-12-24T20:31:29.410817",
     "exception": false,
     "start_time": "2020-12-24T20:31:24.075018",
     "status": "completed"
    },
    "tags": []
   },
   "outputs": [
    {
     "name": "stdout",
     "output_type": "stream",
     "text": [
      "Epoch 1/100\n",
      "15/15 [==============================] - 0s 11ms/step - loss: 0.0953 - val_loss: 0.0898\n",
      "Epoch 2/100\n",
      "15/15 [==============================] - 0s 2ms/step - loss: 0.0863 - val_loss: 0.0774\n",
      "Epoch 3/100\n",
      "15/15 [==============================] - 0s 2ms/step - loss: 0.0713 - val_loss: 0.0577\n",
      "Epoch 4/100\n",
      "15/15 [==============================] - 0s 3ms/step - loss: 0.0520 - val_loss: 0.0383\n",
      "Epoch 5/100\n",
      "15/15 [==============================] - 0s 3ms/step - loss: 0.0376 - val_loss: 0.0293\n",
      "Epoch 6/100\n",
      "15/15 [==============================] - 0s 3ms/step - loss: 0.0317 - val_loss: 0.0260\n",
      "Epoch 7/100\n",
      "15/15 [==============================] - 0s 3ms/step - loss: 0.0283 - val_loss: 0.0235\n",
      "Epoch 8/100\n",
      "15/15 [==============================] - 0s 3ms/step - loss: 0.0252 - val_loss: 0.0207\n",
      "Epoch 9/100\n",
      "15/15 [==============================] - 0s 3ms/step - loss: 0.0222 - val_loss: 0.0183\n",
      "Epoch 10/100\n",
      "15/15 [==============================] - 0s 3ms/step - loss: 0.0191 - val_loss: 0.0160\n",
      "Epoch 11/100\n",
      "15/15 [==============================] - 0s 3ms/step - loss: 0.0166 - val_loss: 0.0143\n",
      "Epoch 12/100\n",
      "15/15 [==============================] - 0s 3ms/step - loss: 0.0147 - val_loss: 0.0128\n",
      "Epoch 13/100\n",
      "15/15 [==============================] - 0s 2ms/step - loss: 0.0132 - val_loss: 0.0117\n",
      "Epoch 14/100\n",
      "15/15 [==============================] - 0s 3ms/step - loss: 0.0121 - val_loss: 0.0109\n",
      "Epoch 15/100\n",
      "15/15 [==============================] - 0s 3ms/step - loss: 0.0113 - val_loss: 0.0104\n",
      "Epoch 16/100\n",
      "15/15 [==============================] - 0s 3ms/step - loss: 0.0106 - val_loss: 0.0099\n",
      "Epoch 17/100\n",
      "15/15 [==============================] - 0s 3ms/step - loss: 0.0101 - val_loss: 0.0095\n",
      "Epoch 18/100\n",
      "15/15 [==============================] - 0s 3ms/step - loss: 0.0097 - val_loss: 0.0092\n",
      "Epoch 19/100\n",
      "15/15 [==============================] - 0s 2ms/step - loss: 0.0093 - val_loss: 0.0088\n",
      "Epoch 20/100\n",
      "15/15 [==============================] - 0s 2ms/step - loss: 0.0090 - val_loss: 0.0085\n",
      "Epoch 21/100\n",
      "15/15 [==============================] - 0s 2ms/step - loss: 0.0086 - val_loss: 0.0083\n",
      "Epoch 22/100\n",
      "15/15 [==============================] - 0s 2ms/step - loss: 0.0083 - val_loss: 0.0079\n",
      "Epoch 23/100\n",
      "15/15 [==============================] - 0s 2ms/step - loss: 0.0080 - val_loss: 0.0077\n",
      "Epoch 24/100\n",
      "15/15 [==============================] - 0s 3ms/step - loss: 0.0077 - val_loss: 0.0074\n",
      "Epoch 25/100\n",
      "15/15 [==============================] - 0s 2ms/step - loss: 0.0075 - val_loss: 0.0073\n",
      "Epoch 26/100\n",
      "15/15 [==============================] - 0s 3ms/step - loss: 0.0073 - val_loss: 0.0070\n",
      "Epoch 27/100\n",
      "15/15 [==============================] - 0s 3ms/step - loss: 0.0070 - val_loss: 0.0068\n",
      "Epoch 28/100\n",
      "15/15 [==============================] - 0s 2ms/step - loss: 0.0068 - val_loss: 0.0066\n",
      "Epoch 29/100\n",
      "15/15 [==============================] - 0s 3ms/step - loss: 0.0066 - val_loss: 0.0065\n",
      "Epoch 30/100\n",
      "15/15 [==============================] - 0s 3ms/step - loss: 0.0064 - val_loss: 0.0063\n",
      "Epoch 31/100\n",
      "15/15 [==============================] - 0s 3ms/step - loss: 0.0062 - val_loss: 0.0061\n",
      "Epoch 32/100\n",
      "15/15 [==============================] - 0s 3ms/step - loss: 0.0061 - val_loss: 0.0060\n",
      "Epoch 33/100\n",
      "15/15 [==============================] - 0s 3ms/step - loss: 0.0059 - val_loss: 0.0058\n",
      "Epoch 34/100\n",
      "15/15 [==============================] - 0s 3ms/step - loss: 0.0057 - val_loss: 0.0057\n",
      "Epoch 35/100\n",
      "15/15 [==============================] - 0s 2ms/step - loss: 0.0056 - val_loss: 0.0056\n",
      "Epoch 36/100\n",
      "15/15 [==============================] - 0s 2ms/step - loss: 0.0054 - val_loss: 0.0054\n",
      "Epoch 37/100\n",
      "15/15 [==============================] - 0s 3ms/step - loss: 0.0053 - val_loss: 0.0053\n",
      "Epoch 38/100\n",
      "15/15 [==============================] - 0s 2ms/step - loss: 0.0051 - val_loss: 0.0052\n",
      "Epoch 39/100\n",
      "15/15 [==============================] - 0s 3ms/step - loss: 0.0050 - val_loss: 0.0051\n",
      "Epoch 40/100\n",
      "15/15 [==============================] - 0s 2ms/step - loss: 0.0049 - val_loss: 0.0049\n",
      "Epoch 41/100\n",
      "15/15 [==============================] - 0s 3ms/step - loss: 0.0048 - val_loss: 0.0048\n",
      "Epoch 42/100\n",
      "15/15 [==============================] - 0s 2ms/step - loss: 0.0046 - val_loss: 0.0047\n",
      "Epoch 43/100\n",
      "15/15 [==============================] - 0s 2ms/step - loss: 0.0045 - val_loss: 0.0046\n",
      "Epoch 44/100\n",
      "15/15 [==============================] - 0s 3ms/step - loss: 0.0044 - val_loss: 0.0045\n",
      "Epoch 45/100\n",
      "15/15 [==============================] - 0s 2ms/step - loss: 0.0043 - val_loss: 0.0045\n",
      "Epoch 46/100\n",
      "15/15 [==============================] - 0s 2ms/step - loss: 0.0043 - val_loss: 0.0043\n",
      "Epoch 47/100\n",
      "15/15 [==============================] - 0s 3ms/step - loss: 0.0042 - val_loss: 0.0042\n",
      "Epoch 48/100\n",
      "15/15 [==============================] - 0s 3ms/step - loss: 0.0041 - val_loss: 0.0041\n",
      "Epoch 49/100\n",
      "15/15 [==============================] - 0s 2ms/step - loss: 0.0040 - val_loss: 0.0041\n",
      "Epoch 50/100\n",
      "15/15 [==============================] - 0s 2ms/step - loss: 0.0039 - val_loss: 0.0040\n",
      "Epoch 51/100\n",
      "15/15 [==============================] - 0s 3ms/step - loss: 0.0039 - val_loss: 0.0039\n",
      "Epoch 52/100\n",
      "15/15 [==============================] - 0s 3ms/step - loss: 0.0038 - val_loss: 0.0038\n",
      "Epoch 53/100\n",
      "15/15 [==============================] - 0s 2ms/step - loss: 0.0037 - val_loss: 0.0038\n",
      "Epoch 54/100\n",
      "15/15 [==============================] - 0s 2ms/step - loss: 0.0037 - val_loss: 0.0037\n",
      "Epoch 55/100\n",
      "15/15 [==============================] - 0s 2ms/step - loss: 0.0036 - val_loss: 0.0037\n",
      "Epoch 56/100\n",
      "15/15 [==============================] - 0s 3ms/step - loss: 0.0036 - val_loss: 0.0036\n",
      "Epoch 57/100\n",
      "15/15 [==============================] - 0s 2ms/step - loss: 0.0035 - val_loss: 0.0035\n",
      "Epoch 58/100\n",
      "15/15 [==============================] - 0s 3ms/step - loss: 0.0035 - val_loss: 0.0035\n",
      "Epoch 59/100\n",
      "15/15 [==============================] - 0s 3ms/step - loss: 0.0034 - val_loss: 0.0035\n",
      "Epoch 60/100\n",
      "15/15 [==============================] - 0s 3ms/step - loss: 0.0034 - val_loss: 0.0034\n",
      "Epoch 61/100\n",
      "15/15 [==============================] - 0s 3ms/step - loss: 0.0033 - val_loss: 0.0034\n",
      "Epoch 62/100\n",
      "15/15 [==============================] - 0s 3ms/step - loss: 0.0033 - val_loss: 0.0033\n",
      "Epoch 63/100\n",
      "15/15 [==============================] - 0s 3ms/step - loss: 0.0033 - val_loss: 0.0033\n",
      "Epoch 64/100\n",
      "15/15 [==============================] - 0s 3ms/step - loss: 0.0032 - val_loss: 0.0032\n",
      "Epoch 65/100\n",
      "15/15 [==============================] - 0s 3ms/step - loss: 0.0032 - val_loss: 0.0032\n",
      "Epoch 66/100\n",
      "15/15 [==============================] - 0s 3ms/step - loss: 0.0031 - val_loss: 0.0032\n",
      "Epoch 67/100\n",
      "15/15 [==============================] - 0s 3ms/step - loss: 0.0031 - val_loss: 0.0031\n",
      "Epoch 68/100\n",
      "15/15 [==============================] - 0s 3ms/step - loss: 0.0031 - val_loss: 0.0031\n",
      "Epoch 69/100\n",
      "15/15 [==============================] - 0s 3ms/step - loss: 0.0030 - val_loss: 0.0031\n",
      "Epoch 70/100\n",
      "15/15 [==============================] - 0s 3ms/step - loss: 0.0030 - val_loss: 0.0030\n",
      "Epoch 71/100\n",
      "15/15 [==============================] - 0s 3ms/step - loss: 0.0030 - val_loss: 0.0030\n",
      "Epoch 72/100\n",
      "15/15 [==============================] - 0s 2ms/step - loss: 0.0029 - val_loss: 0.0030\n",
      "Epoch 73/100\n",
      "15/15 [==============================] - 0s 2ms/step - loss: 0.0029 - val_loss: 0.0029\n",
      "Epoch 74/100\n",
      "15/15 [==============================] - 0s 2ms/step - loss: 0.0029 - val_loss: 0.0029\n",
      "Epoch 75/100\n",
      "15/15 [==============================] - 0s 3ms/step - loss: 0.0028 - val_loss: 0.0029\n",
      "Epoch 76/100\n",
      "15/15 [==============================] - 0s 3ms/step - loss: 0.0028 - val_loss: 0.0028\n",
      "Epoch 77/100\n",
      "15/15 [==============================] - 0s 3ms/step - loss: 0.0028 - val_loss: 0.0028\n",
      "Epoch 78/100\n",
      "15/15 [==============================] - 0s 3ms/step - loss: 0.0028 - val_loss: 0.0028\n",
      "Epoch 79/100\n",
      "15/15 [==============================] - 0s 3ms/step - loss: 0.0027 - val_loss: 0.0028\n",
      "Epoch 80/100\n",
      "15/15 [==============================] - 0s 2ms/step - loss: 0.0027 - val_loss: 0.0027\n",
      "Epoch 81/100\n",
      "15/15 [==============================] - 0s 3ms/step - loss: 0.0027 - val_loss: 0.0027\n",
      "Epoch 82/100\n",
      "15/15 [==============================] - 0s 3ms/step - loss: 0.0027 - val_loss: 0.0027\n",
      "Epoch 83/100\n",
      "15/15 [==============================] - 0s 2ms/step - loss: 0.0026 - val_loss: 0.0027\n",
      "Epoch 84/100\n",
      "15/15 [==============================] - 0s 2ms/step - loss: 0.0026 - val_loss: 0.0027\n",
      "Epoch 85/100\n",
      "15/15 [==============================] - 0s 2ms/step - loss: 0.0026 - val_loss: 0.0026\n",
      "Epoch 86/100\n",
      "15/15 [==============================] - 0s 3ms/step - loss: 0.0026 - val_loss: 0.0026\n",
      "Epoch 87/100\n",
      "15/15 [==============================] - 0s 3ms/step - loss: 0.0026 - val_loss: 0.0026\n",
      "Epoch 88/100\n",
      "15/15 [==============================] - 0s 2ms/step - loss: 0.0025 - val_loss: 0.0026\n",
      "Epoch 89/100\n",
      "15/15 [==============================] - 0s 3ms/step - loss: 0.0025 - val_loss: 0.0026\n",
      "Epoch 90/100\n",
      "15/15 [==============================] - 0s 3ms/step - loss: 0.0025 - val_loss: 0.0025\n",
      "Epoch 91/100\n",
      "15/15 [==============================] - 0s 2ms/step - loss: 0.0025 - val_loss: 0.0025\n",
      "Epoch 92/100\n",
      "15/15 [==============================] - 0s 3ms/step - loss: 0.0025 - val_loss: 0.0025\n",
      "Epoch 93/100\n",
      "15/15 [==============================] - 0s 2ms/step - loss: 0.0024 - val_loss: 0.0025\n",
      "Epoch 94/100\n",
      "15/15 [==============================] - 0s 3ms/step - loss: 0.0024 - val_loss: 0.0025\n",
      "Epoch 95/100\n",
      "15/15 [==============================] - 0s 3ms/step - loss: 0.0024 - val_loss: 0.0024\n",
      "Epoch 96/100\n",
      "15/15 [==============================] - 0s 3ms/step - loss: 0.0024 - val_loss: 0.0024\n",
      "Epoch 97/100\n",
      "15/15 [==============================] - 0s 3ms/step - loss: 0.0024 - val_loss: 0.0024\n",
      "Epoch 98/100\n",
      "15/15 [==============================] - 0s 3ms/step - loss: 0.0024 - val_loss: 0.0024\n",
      "Epoch 99/100\n",
      "15/15 [==============================] - 0s 3ms/step - loss: 0.0023 - val_loss: 0.0024\n",
      "Epoch 100/100\n",
      "15/15 [==============================] - 0s 3ms/step - loss: 0.0023 - val_loss: 0.0024\n"
     ]
    },
    {
     "data": {
      "text/plain": [
       "<tensorflow.python.keras.callbacks.History at 0x7f2d303aa490>"
      ]
     },
     "execution_count": 7,
     "metadata": {},
     "output_type": "execute_result"
    }
   ],
   "source": [
    "autoencoder.fit(train_X, train_X, epochs=100, shuffle=True, \n",
    "                validation_data=(val_X, val_X), callbacks=[early_stop])"
   ]
  },
  {
   "cell_type": "code",
   "execution_count": 8,
   "metadata": {
    "execution": {
     "iopub.execute_input": "2020-12-24T20:31:29.592104Z",
     "iopub.status.busy": "2020-12-24T20:31:29.591099Z",
     "iopub.status.idle": "2020-12-24T20:31:29.595483Z",
     "shell.execute_reply": "2020-12-24T20:31:29.594935Z"
    },
    "papermill": {
     "duration": 0.093517,
     "end_time": "2020-12-24T20:31:29.595601",
     "exception": false,
     "start_time": "2020-12-24T20:31:29.502084",
     "status": "completed"
    },
    "tags": []
   },
   "outputs": [
    {
     "data": {
      "text/plain": [
       "(114, 32)"
      ]
     },
     "execution_count": 8,
     "metadata": {},
     "output_type": "execute_result"
    }
   ],
   "source": [
    "val_df.shape"
   ]
  },
  {
   "cell_type": "markdown",
   "metadata": {
    "papermill": {
     "duration": 0.098372,
     "end_time": "2020-12-24T20:31:29.809809",
     "exception": false,
     "start_time": "2020-12-24T20:31:29.711437",
     "status": "completed"
    },
    "tags": []
   },
   "source": [
    "## Visualize (Latent Dimension = 2)"
   ]
  },
  {
   "cell_type": "code",
   "execution_count": 9,
   "metadata": {
    "execution": {
     "iopub.execute_input": "2020-12-24T20:31:29.993476Z",
     "iopub.status.busy": "2020-12-24T20:31:29.992789Z",
     "iopub.status.idle": "2020-12-24T20:31:29.997422Z",
     "shell.execute_reply": "2020-12-24T20:31:29.998121Z"
    },
    "papermill": {
     "duration": 0.096526,
     "end_time": "2020-12-24T20:31:29.998339",
     "exception": false,
     "start_time": "2020-12-24T20:31:29.901813",
     "status": "completed"
    },
    "tags": []
   },
   "outputs": [],
   "source": [
    "# reduced_train = pd.DataFrame(autoencoder.encoder(train_df[feats].values).numpy(), columns=['x1','x2'])\n",
    "# reduced_val =  pd.DataFrame(autoencoder.encoder(val_df[feats].values).numpy(),  columns=['x1','x2'])"
   ]
  },
  {
   "cell_type": "code",
   "execution_count": 10,
   "metadata": {
    "execution": {
     "iopub.execute_input": "2020-12-24T20:31:30.278124Z",
     "iopub.status.busy": "2020-12-24T20:31:30.276064Z",
     "iopub.status.idle": "2020-12-24T20:31:30.279144Z",
     "shell.execute_reply": "2020-12-24T20:31:30.279936Z"
    },
    "papermill": {
     "duration": 0.149362,
     "end_time": "2020-12-24T20:31:30.280109",
     "exception": false,
     "start_time": "2020-12-24T20:31:30.130747",
     "status": "completed"
    },
    "tags": []
   },
   "outputs": [],
   "source": [
    "# reduced_train['target'] = train_df.diagnosis\n",
    "# reduced_val['target'] = val_df.diagnosis"
   ]
  },
  {
   "cell_type": "code",
   "execution_count": 11,
   "metadata": {
    "execution": {
     "iopub.execute_input": "2020-12-24T20:31:30.495282Z",
     "iopub.status.busy": "2020-12-24T20:31:30.494595Z",
     "iopub.status.idle": "2020-12-24T20:31:30.498971Z",
     "shell.execute_reply": "2020-12-24T20:31:30.499436Z"
    },
    "papermill": {
     "duration": 0.113305,
     "end_time": "2020-12-24T20:31:30.499603",
     "exception": false,
     "start_time": "2020-12-24T20:31:30.386298",
     "status": "completed"
    },
    "tags": []
   },
   "outputs": [],
   "source": [
    "# fig, (ax1, ax2) = plt.subplots(nrows=2, figsize=(10,20))\n",
    "# sns.scatterplot(x='x1', y='x2', hue='target', data=reduced_train, ax=ax1)\n",
    "# sns.scatterplot(x='x1', y='x2', hue='target', data=reduced_val, ax=ax2)"
   ]
  },
  {
   "cell_type": "markdown",
   "metadata": {
    "papermill": {
     "duration": 0.095657,
     "end_time": "2020-12-24T20:31:30.681700",
     "exception": false,
     "start_time": "2020-12-24T20:31:30.586043",
     "status": "completed"
    },
    "tags": []
   },
   "source": [
    "## Binary Classification Modeling"
   ]
  },
  {
   "cell_type": "code",
   "execution_count": 12,
   "metadata": {
    "execution": {
     "iopub.execute_input": "2020-12-24T20:31:30.862653Z",
     "iopub.status.busy": "2020-12-24T20:31:30.861938Z",
     "iopub.status.idle": "2020-12-24T20:31:30.953389Z",
     "shell.execute_reply": "2020-12-24T20:31:30.952775Z"
    },
    "papermill": {
     "duration": 0.184659,
     "end_time": "2020-12-24T20:31:30.953501",
     "exception": false,
     "start_time": "2020-12-24T20:31:30.768842",
     "status": "completed"
    },
    "tags": []
   },
   "outputs": [],
   "source": [
    "from sklearn.linear_model import LogisticRegression\n",
    "from sklearn.metrics import roc_auc_score, f1_score, classification_report"
   ]
  },
  {
   "cell_type": "code",
   "execution_count": 13,
   "metadata": {
    "execution": {
     "iopub.execute_input": "2020-12-24T20:31:31.138725Z",
     "iopub.status.busy": "2020-12-24T20:31:31.132527Z",
     "iopub.status.idle": "2020-12-24T20:31:31.956627Z",
     "shell.execute_reply": "2020-12-24T20:31:31.957257Z"
    },
    "papermill": {
     "duration": 0.919591,
     "end_time": "2020-12-24T20:31:31.957449",
     "exception": false,
     "start_time": "2020-12-24T20:31:31.037858",
     "status": "completed"
    },
    "tags": []
   },
   "outputs": [],
   "source": [
    "lr1 = LogisticRegression(max_iter=5000).fit(train_df_orig[feats], train_df_orig.diagnosis)"
   ]
  },
  {
   "cell_type": "code",
   "execution_count": 14,
   "metadata": {
    "execution": {
     "iopub.execute_input": "2020-12-24T20:31:32.152862Z",
     "iopub.status.busy": "2020-12-24T20:31:32.152163Z",
     "iopub.status.idle": "2020-12-24T20:31:32.184457Z",
     "shell.execute_reply": "2020-12-24T20:31:32.184949Z"
    },
    "papermill": {
     "duration": 0.132614,
     "end_time": "2020-12-24T20:31:32.185115",
     "exception": false,
     "start_time": "2020-12-24T20:31:32.052501",
     "status": "completed"
    },
    "tags": []
   },
   "outputs": [],
   "source": [
    "lr2 = LogisticRegression(max_iter=5000).fit(autoencoder(train_df[feats].values).numpy(), train_df.diagnosis)"
   ]
  },
  {
   "cell_type": "code",
   "execution_count": 15,
   "metadata": {
    "execution": {
     "iopub.execute_input": "2020-12-24T20:31:32.375936Z",
     "iopub.status.busy": "2020-12-24T20:31:32.375154Z",
     "iopub.status.idle": "2020-12-24T20:31:32.381133Z",
     "shell.execute_reply": "2020-12-24T20:31:32.381765Z"
    },
    "papermill": {
     "duration": 0.106603,
     "end_time": "2020-12-24T20:31:32.381931",
     "exception": false,
     "start_time": "2020-12-24T20:31:32.275328",
     "status": "completed"
    },
    "tags": []
   },
   "outputs": [],
   "source": [
    "pred1 = lr1.predict_proba(val_df_orig[feats])[:,1]\n",
    "pred2 = lr2.predict_proba(autoencoder(val_df[feats].values).numpy())[:,1]"
   ]
  },
  {
   "cell_type": "code",
   "execution_count": 16,
   "metadata": {
    "execution": {
     "iopub.execute_input": "2020-12-24T20:31:32.578752Z",
     "iopub.status.busy": "2020-12-24T20:31:32.578102Z",
     "iopub.status.idle": "2020-12-24T20:31:32.581225Z",
     "shell.execute_reply": "2020-12-24T20:31:32.580693Z"
    },
    "papermill": {
     "duration": 0.107354,
     "end_time": "2020-12-24T20:31:32.581333",
     "exception": false,
     "start_time": "2020-12-24T20:31:32.473979",
     "status": "completed"
    },
    "tags": []
   },
   "outputs": [],
   "source": [
    "y_true = val_df.diagnosis.map({'B':0, 'M':1}).values"
   ]
  },
  {
   "cell_type": "markdown",
   "metadata": {
    "papermill": {
     "duration": 0.096805,
     "end_time": "2020-12-24T20:31:32.767409",
     "exception": false,
     "start_time": "2020-12-24T20:31:32.670604",
     "status": "completed"
    },
    "tags": []
   },
   "source": [
    "### Plain Data Results"
   ]
  },
  {
   "cell_type": "code",
   "execution_count": 17,
   "metadata": {
    "execution": {
     "iopub.execute_input": "2020-12-24T20:31:32.965243Z",
     "iopub.status.busy": "2020-12-24T20:31:32.964242Z",
     "iopub.status.idle": "2020-12-24T20:31:32.971974Z",
     "shell.execute_reply": "2020-12-24T20:31:32.971443Z"
    },
    "papermill": {
     "duration": 0.09983,
     "end_time": "2020-12-24T20:31:32.972088",
     "exception": false,
     "start_time": "2020-12-24T20:31:32.872258",
     "status": "completed"
    },
    "tags": []
   },
   "outputs": [
    {
     "data": {
      "text/plain": [
       "(0.9923941798941799, 0.9113924050632912)"
      ]
     },
     "execution_count": 17,
     "metadata": {},
     "output_type": "execute_result"
    }
   ],
   "source": [
    "roc_auc_score(y_true, pred1), f1_score(y_true, 1*(pred1>0.5))"
   ]
  },
  {
   "cell_type": "code",
   "execution_count": 18,
   "metadata": {
    "execution": {
     "iopub.execute_input": "2020-12-24T20:31:33.152127Z",
     "iopub.status.busy": "2020-12-24T20:31:33.151464Z",
     "iopub.status.idle": "2020-12-24T20:31:33.161423Z",
     "shell.execute_reply": "2020-12-24T20:31:33.161895Z"
    },
    "papermill": {
     "duration": 0.102756,
     "end_time": "2020-12-24T20:31:33.162045",
     "exception": false,
     "start_time": "2020-12-24T20:31:33.059289",
     "status": "completed"
    },
    "tags": []
   },
   "outputs": [
    {
     "name": "stdout",
     "output_type": "stream",
     "text": [
      "              precision    recall  f1-score   support\n",
      "\n",
      "           0       0.92      0.99      0.95        72\n",
      "           1       0.97      0.86      0.91        42\n",
      "\n",
      "    accuracy                           0.94       114\n",
      "   macro avg       0.95      0.92      0.93       114\n",
      "weighted avg       0.94      0.94      0.94       114\n",
      "\n"
     ]
    }
   ],
   "source": [
    "print(classification_report(y_true, 1*(pred1>0.5)))"
   ]
  },
  {
   "cell_type": "markdown",
   "metadata": {
    "papermill": {
     "duration": 0.086518,
     "end_time": "2020-12-24T20:31:33.335681",
     "exception": false,
     "start_time": "2020-12-24T20:31:33.249163",
     "status": "completed"
    },
    "tags": []
   },
   "source": [
    "### Autoencoder \"Denoised\" Results"
   ]
  },
  {
   "cell_type": "code",
   "execution_count": 19,
   "metadata": {
    "execution": {
     "iopub.execute_input": "2020-12-24T20:31:33.515938Z",
     "iopub.status.busy": "2020-12-24T20:31:33.515276Z",
     "iopub.status.idle": "2020-12-24T20:31:33.521140Z",
     "shell.execute_reply": "2020-12-24T20:31:33.521734Z"
    },
    "papermill": {
     "duration": 0.098746,
     "end_time": "2020-12-24T20:31:33.521876",
     "exception": false,
     "start_time": "2020-12-24T20:31:33.423130",
     "status": "completed"
    },
    "tags": []
   },
   "outputs": [
    {
     "data": {
      "text/plain": [
       "(0.9976851851851852, 0.951219512195122)"
      ]
     },
     "execution_count": 19,
     "metadata": {},
     "output_type": "execute_result"
    }
   ],
   "source": [
    "roc_auc_score(y_true, pred2), f1_score(y_true, 1*(pred2>0.5))"
   ]
  },
  {
   "cell_type": "code",
   "execution_count": 20,
   "metadata": {
    "execution": {
     "iopub.execute_input": "2020-12-24T20:31:33.719350Z",
     "iopub.status.busy": "2020-12-24T20:31:33.718006Z",
     "iopub.status.idle": "2020-12-24T20:31:33.729064Z",
     "shell.execute_reply": "2020-12-24T20:31:33.729860Z"
    },
    "papermill": {
     "duration": 0.110078,
     "end_time": "2020-12-24T20:31:33.730050",
     "exception": false,
     "start_time": "2020-12-24T20:31:33.619972",
     "status": "completed"
    },
    "tags": []
   },
   "outputs": [
    {
     "name": "stdout",
     "output_type": "stream",
     "text": [
      "              precision    recall  f1-score   support\n",
      "\n",
      "           0       0.96      0.99      0.97        72\n",
      "           1       0.97      0.93      0.95        42\n",
      "\n",
      "    accuracy                           0.96       114\n",
      "   macro avg       0.97      0.96      0.96       114\n",
      "weighted avg       0.97      0.96      0.96       114\n",
      "\n"
     ]
    }
   ],
   "source": [
    "print(classification_report(y_true, 1*(pred2>0.5)))"
   ]
  },
  {
   "cell_type": "code",
   "execution_count": null,
   "metadata": {
    "papermill": {
     "duration": 0.086613,
     "end_time": "2020-12-24T20:31:33.904658",
     "exception": false,
     "start_time": "2020-12-24T20:31:33.818045",
     "status": "completed"
    },
    "tags": []
   },
   "outputs": [],
   "source": []
  }
 ],
 "metadata": {
  "kernelspec": {
   "display_name": "Python 3",
   "language": "python",
   "name": "python3"
  },
  "language_info": {
   "codemirror_mode": {
    "name": "ipython",
    "version": 3
   },
   "file_extension": ".py",
   "mimetype": "text/x-python",
   "name": "python",
   "nbconvert_exporter": "python",
   "pygments_lexer": "ipython3",
   "version": "3.6.8"
  },
  "papermill": {
   "duration": 22.668065,
   "end_time": "2020-12-24T20:31:34.099799",
   "environment_variables": {},
   "exception": null,
   "input_path": "__notebook__.ipynb",
   "output_path": "__notebook__.ipynb",
   "parameters": {},
   "start_time": "2020-12-24T20:31:11.431734",
   "version": "2.1.0"
  }
 },
 "nbformat": 4,
 "nbformat_minor": 4
}
